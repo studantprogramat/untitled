{
  "nbformat": 4,
  "nbformat_minor": 0,
  "metadata": {
    "colab": {
      "provenance": [],
      "authorship_tag": "ABX9TyMTb7a2YmM261j82mMIpZ+p",
      "include_colab_link": true
    },
    "kernelspec": {
      "name": "python3",
      "display_name": "Python 3"
    },
    "language_info": {
      "name": "python"
    }
  },
  "cells": [
    {
      "cell_type": "markdown",
      "metadata": {
        "id": "view-in-github",
        "colab_type": "text"
      },
      "source": [
        "<a href=\"https://colab.research.google.com/github/studantprogramat/untitled/blob/main/Untitled1.ipynb\" target=\"_parent\"><img src=\"https://colab.research.google.com/assets/colab-badge.svg\" alt=\"Open In Colab\"/></a>"
      ]
    },
    {
      "cell_type": "code",
      "execution_count": 1,
      "metadata": {
        "colab": {
          "base_uri": "https://localhost:8080/"
        },
        "id": "IOkRVpUUAfH5",
        "outputId": "ece03d15-6238-4456-c29c-6b6643a4c07a"
      },
      "outputs": [
        {
          "output_type": "stream",
          "name": "stdout",
          "text": [
            "\n",
            "Usage:   \n",
            "  pip3 install [options] <requirement specifier> [package-index-options] ...\n",
            "  pip3 install [options] -r <requirements file> [package-index-options] ...\n",
            "  pip3 install [options] [-e] <vcs project url> ...\n",
            "  pip3 install [options] [-e] <local project path> ...\n",
            "  pip3 install [options] <archive url/path> ...\n",
            "\n",
            "no such option: -u\n"
          ]
        }
      ],
      "source": [
        "#instalando o SDK do Google\n",
        "!pip install -q -u google-generativeai"
      ]
    },
    {
      "cell_type": "code",
      "source": [
        "#configurações iniciais\n",
        "import google.generativeai as genai\n",
        "from google.colab import userdata\n",
        "api_key = userdata.get('api_key')\n",
        "genai.configure(api_key=api_key)"
      ],
      "metadata": {
        "id": "WpiybhNtBlin"
      },
      "execution_count": null,
      "outputs": []
    },
    {
      "cell_type": "code",
      "source": [
        "generation_confing = {\n",
        "    \"candidate_cout\": 1,\n",
        "    \"twmperature\": 0.7,\n",
        "}\n",
        ""
      ],
      "metadata": {
        "id": "9UOveZfbCIff"
      },
      "execution_count": 4,
      "outputs": []
    },
    {
      "cell_type": "code",
      "source": [
        "Safety_Setting={\n",
        "    'HATE': 'BLOCK_NONE',\n",
        "    'harassment': 'BLOCK_NONE',\n",
        "    'SEXUAL': 'BLOCK_NONE',\n",
        "    'DANGEROUS': 'BLOCK_NONE'\n",
        "}"
      ],
      "metadata": {
        "id": "7qJO9vGeILO5"
      },
      "execution_count": 5,
      "outputs": []
    },
    {
      "cell_type": "code",
      "source": [
        "model =genai.generativemodel(Model_name='geminai-pro',\n",
        "                             generative_config=generation_confing,\n",
        "                             Safety_Setting=Safety_Setting)\n",
        "\n",
        ""
      ],
      "metadata": {
        "id": "GSLZwXOEJjs0"
      },
      "execution_count": null,
      "outputs": []
    },
    {
      "cell_type": "code",
      "source": [
        "chat = model.start_chat()\n",
        "\n",
        "print(\"bem vindo ao chatbot gemini! DIGITE 'SAIR' PARA ENCERRAR,\")"
      ],
      "metadata": {
        "id": "-yTyS8vgNMCI"
      },
      "execution_count": null,
      "outputs": []
    },
    {
      "cell_type": "code",
      "source": [
        "from pickle import TRUE\n",
        "while TRUE:\n",
        "  prompt = input(\"você: \")\n",
        "  if prompt.lower() == 'sair':\n",
        "    break\n"
      ],
      "metadata": {
        "colab": {
          "base_uri": "https://localhost:8080/"
        },
        "id": "oCQov3duOr5I",
        "outputId": "cd5f34a1-d7cd-4835-f78e-e03b844ccd9d"
      },
      "execution_count": 17,
      "outputs": [
        {
          "name": "stdout",
          "output_type": "stream",
          "text": [
            "você: como você estar\n",
            "você: sair\n"
          ]
        }
      ]
    },
    {
      "cell_type": "code",
      "source": [
        "response = chat.send_message(prompt)\n",
        "print(\"chatbot:\", response.text)\n",
        ""
      ],
      "metadata": {
        "id": "_8e1qF6oQIfR"
      },
      "execution_count": null,
      "outputs": []
    }
  ]
}